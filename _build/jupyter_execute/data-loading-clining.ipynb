{
 "cells": [
  {
   "cell_type": "markdown",
   "metadata": {},
   "source": [
    "# Data loading and clining\n",
    "## Loading data\n",
    "We will use data stored in a CSV file. In order to process the data we will use Pandas framework."
   ]
  },
  {
   "cell_type": "code",
   "execution_count": 1,
   "metadata": {},
   "outputs": [],
   "source": [
    "import pandas as pd\n",
    "import numpy as np\n",
    "from IPython.display import display\n",
    "\n",
    "pd.set_option(\"display.precision\", 2)\n",
    "pd.options.display.max_columns = 50\n",
    "\n",
    "CSV_FILENAME = './res/cleveland_data.csv'\n",
    "names = ['age', 'sex', 'cp', 'trestbps', 'chol', 'fbs', 'restecg', 'thalach', 'exang', 'oldpeak', 'slope', 'ca', 'thal', 'num']\n",
    "\n",
    "raw_data = pd.read_csv(\n",
    "    filepath_or_buffer = CSV_FILENAME,\n",
    "    names = names,\n",
    "    index_col = False\n",
    ")"
   ]
  },
  {
   "cell_type": "markdown",
   "metadata": {},
   "source": [
    "## Data cleaning\n",
    "### Checking and removing incorrect data\n",
    "First of all, let's check if the dataset contains non-numeric data:"
   ]
  },
  {
   "cell_type": "code",
   "execution_count": 2,
   "metadata": {
    "colab": {
     "base_uri": "https://localhost:8080/"
    },
    "executionInfo": {
     "elapsed": 34868,
     "status": "ok",
     "timestamp": 1644338686316,
     "user": {
      "displayName": "עידן רום",
      "photoUrl": "https://lh3.googleusercontent.com/a/default-user=s64",
      "userId": "06388055895418477996"
     },
     "user_tz": -120
    },
    "id": "IaHoKlAeNFEI",
    "outputId": "498ba480-ee02-42d5-9e56-1d2905e1bf62"
   },
   "outputs": [
    {
     "name": "stdout",
     "output_type": "stream",
     "text": [
      "non-numeric columns:\n",
      " ca      object\n",
      "thal    object\n",
      "dtype: object\n"
     ]
    }
   ],
   "source": [
    "dtypes = raw_data.dtypes\n",
    "non_num_dtypes = dtypes[(dtypes != np.float64) & (dtypes != np.int64)]\n",
    "print('non-numeric columns:\\n', non_num_dtypes)"
   ]
  },
  {
   "cell_type": "markdown",
   "metadata": {},
   "source": [
    "After we have found that there are potentially incorrect data in columns ca and thal, let's check them"
   ]
  },
  {
   "cell_type": "code",
   "execution_count": 3,
   "metadata": {},
   "outputs": [
    {
     "name": "stdout",
     "output_type": "stream",
     "text": [
      "unique values in \"ca\":  ['0.0' '3.0' '2.0' '1.0' '?']\n",
      "unique values in \"thal\":  ['6.0' '3.0' '7.0' '?']\n"
     ]
    }
   ],
   "source": [
    "print('unique values in \"ca\": ', raw_data['ca'].unique())\n",
    "print('unique values in \"thal\": ', raw_data['thal'].unique())"
   ]
  },
  {
   "cell_type": "markdown",
   "metadata": {},
   "source": [
    "Now we can see that some of the fields contain the '?' symbol. Let's get rid of them:"
   ]
  },
  {
   "cell_type": "code",
   "execution_count": 4,
   "metadata": {},
   "outputs": [],
   "source": [
    "raw_data = raw_data.drop(raw_data[(raw_data['ca'] == '?') | (raw_data['thal'] == '?')].index)\n",
    "raw_data['ca'] = pd.to_numeric(raw_data['ca']); raw_data['thal'] = pd.to_numeric(raw_data['thal'])\n",
    "raw_data = raw_data.reset_index(drop = True)"
   ]
  },
  {
   "cell_type": "markdown",
   "metadata": {},
   "source": [
    "### Splitting categorical fields\n",
    "We cannot directly use categorical parameters, because the numbers they contain do not quantify them, but only show the presence of a certain feature. Let's replace each of these parameters with a one-hot vector:"
   ]
  },
  {
   "cell_type": "code",
   "execution_count": 5,
   "metadata": {},
   "outputs": [],
   "source": [
    "cp_one_hot = pd.get_dummies(\n",
    "    data = raw_data['cp'],\n",
    "    dtype = np.float64\n",
    ").set_axis(\n",
    "    labels = ['typical angina', 'atypical angina', 'non-anginal pain', 'asymptomatic'],\n",
    "    axis = 'columns'\n",
    ")\n",
    "\n",
    "thal_one_hot = pd.get_dummies(\n",
    "    data = raw_data['thal'],\n",
    "    dtype = np.float64\n",
    ").set_axis(\n",
    "    labels = ['thal norm', 'thal fixed def', 'thal reversable def'],\n",
    "    axis = 'columns'\n",
    ")\n",
    "\n",
    "restecg_one_hot = pd.get_dummies(\n",
    "    data = raw_data['restecg'],\n",
    "    dtype = np.float64\n",
    ").set_axis(\n",
    "    labels = ['ecg norm', 'ecg ST-T abnormal', 'ecg hypertrophy'],\n",
    "    axis = 'columns'\n",
    ")\n",
    "\n",
    "original_data = raw_data.drop(columns = ['cp', 'thal', 'restecg']).copy(deep = True)\n",
    "\n",
    "original_data = pd.concat(\n",
    "    objs = [original_data, cp_one_hot, thal_one_hot, restecg_one_hot],\n",
    "    axis = 'columns',\n",
    "    join = 'outer',\n",
    "    ignore_index = False \n",
    ")\n"
   ]
  },
  {
   "cell_type": "markdown",
   "metadata": {},
   "source": [
    "Then we need to make some sence of the 'slope' values:"
   ]
  },
  {
   "cell_type": "code",
   "execution_count": 6,
   "metadata": {},
   "outputs": [],
   "source": [
    "\n",
    "# Update values: flat = 0.0, upsloping = 1.0, downsloping = -1.0\n",
    "original_data.loc[original_data['slope'] == 1.0, 'slope']  = 1.0\n",
    "original_data.loc[original_data['slope'] == 2.0, 'slope']  = 0.0\n",
    "original_data.loc[original_data['slope'] == 3.0, 'slope']  = -1.0"
   ]
  },
  {
   "cell_type": "markdown",
   "metadata": {},
   "source": [
    "And finally, in the 'num' columns, assign a value of \"0\" to healthy patients, and a value of \"1\" to patients with heart disease (regardless the narrowing percentage):"
   ]
  },
  {
   "cell_type": "code",
   "execution_count": 7,
   "metadata": {},
   "outputs": [
    {
     "name": "stdout",
     "output_type": "stream",
     "text": [
      "Stored 'original_data' (DataFrame)\n"
     ]
    }
   ],
   "source": [
    "\n",
    "# Update values: 0.0 = no heart disease; 1.0 = heart disease\n",
    "original_data.loc[original_data['num'] == 0.0, 'num']  = 0.0\n",
    "original_data.loc[original_data['num'] > 0.0, 'num']  = 1.0\n",
    "\n",
    "%store original_data"
   ]
  }
 ],
 "metadata": {
  "colab": {
   "collapsed_sections": [],
   "name": "hybrid.ipynb",
   "provenance": [
    {
     "file_id": "1SRxQCCM4a6mVYk6AZm_32rg34Y0o1DfV",
     "timestamp": 1643101404003
    },
    {
     "file_id": "1ZXiAa36jQ_VVEUgysY0_ZBIwLLPaNw-L",
     "timestamp": 1642934299063
    }
   ]
  },
  "interpreter": {
   "hash": "b33fbd5c2c1fdb4719707e579bab4d029fef7a37984fef5fed10236cbd822c80"
  },
  "kernelspec": {
   "display_name": "Python 3.8.8rc1 64-bit",
   "language": "python",
   "name": "python3"
  },
  "language_info": {
   "codemirror_mode": {
    "name": "ipython",
    "version": 3
   },
   "file_extension": ".py",
   "mimetype": "text/x-python",
   "name": "python",
   "nbconvert_exporter": "python",
   "pygments_lexer": "ipython3",
   "version": "3.8.8rc1"
  }
 },
 "nbformat": 4,
 "nbformat_minor": 0
}